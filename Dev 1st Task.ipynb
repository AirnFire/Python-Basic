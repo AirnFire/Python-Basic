{
 "cells": [
  {
   "cell_type": "code",
   "execution_count": 1,
   "metadata": {},
   "outputs": [
    {
     "name": "stdout",
     "output_type": "stream",
     "text": [
      "enter your string:sounds fun\n",
      "Total vowels:  3\n"
     ]
    }
   ],
   "source": [
    "string = str(input(\"enter your string: \"))\n",
    "vowels = \"AEIOUaeiou\"\n",
    "count = 0\n",
    "for index in string:\n",
    "    if index in vowels:\n",
    "        count+=1\n",
    "print(\"Total vowels: \",count)"
   ]
  },
  {
   "cell_type": "code",
   "execution_count": 24,
   "metadata": {},
   "outputs": [
    {
     "name": "stdout",
     "output_type": "stream",
     "text": [
      "enter size of your array: 3\n",
      "enter number: 3\n",
      "enter number: 3\n",
      "enter number: 3\n",
      "resulting data {3: 3}\n"
     ]
    }
   ],
   "source": [
    "size = int(input(\"enter size of your array: \"))\n",
    "arr = []\n",
    "data_arr ={}\n",
    "for i in range(size):\n",
    "    arr.append(int(input(\"enter number: \")))\n",
    "i=0    \n",
    "for index in arr:\n",
    "    data_arr[index]=arr.count(index)\n",
    "print(\"resulting data\",data_arr)"
   ]
  },
  {
   "cell_type": "code",
   "execution_count": 35,
   "metadata": {},
   "outputs": [
    {
     "name": "stdout",
     "output_type": "stream",
     "text": [
      "enter a number: 8\n",
      "8  is not a prime number.\n"
     ]
    }
   ],
   "source": [
    "num = int(input(\"enter a number: \"))\n",
    "count=0\n",
    "for i in range(1,num):\n",
    "    mod =num%i\n",
    "    if mod==0 or mod==1 :\n",
    "        count = count+1\n",
    "if count==2:\n",
    "    print(num, \" is a prime number.\")\n",
    "else:\n",
    "    print(num, \" is not a prime number.\")"
   ]
  },
  {
   "cell_type": "code",
   "execution_count": 38,
   "metadata": {},
   "outputs": [
    {
     "name": "stdout",
     "output_type": "stream",
     "text": [
      "enter size of your array: 4\n",
      "enter number: 3\n",
      "enter number: 4\n",
      "enter number: 5\n",
      "enter number: 6\n",
      "number of Even Numbers: 2\n",
      "Number of Odd Numbers: 2\n"
     ]
    }
   ],
   "source": [
    "size = int(input(\"enter size of your array: \"))\n",
    "arr = []\n",
    "even =[]\n",
    "odd = []\n",
    "for i in range(size):\n",
    "    arr.append(int(input(\"enter number: \")))\n",
    "for j in arr:\n",
    "    if j%2==0:\n",
    "        even.append(j)\n",
    "    else:\n",
    "        odd.append(j)\n",
    "print(\"number of Even Numbers:\", len(even))\n",
    "print(\"Number of Odd Numbers:\", len(even))"
   ]
  },
  {
   "cell_type": "code",
   "execution_count": 41,
   "metadata": {},
   "outputs": [
    {
     "name": "stdout",
     "output_type": "stream",
     "text": [
      "enter a string:my name is 4560\n",
      "Letters:  8\n",
      "Digits:  4\n"
     ]
    }
   ],
   "source": [
    "string = input(\"enter a string:\")\n",
    "d=0\n",
    "l=0\n",
    "for i in string:\n",
    "    if i.isdigit():\n",
    "        d=d+1\n",
    "    elif i.isalpha():\n",
    "        l=l+1\n",
    "print(\"Letters: \", l)\n",
    "print(\"Digits: \", d)"
   ]
  },
  {
   "cell_type": "code",
   "execution_count": null,
   "metadata": {},
   "outputs": [],
   "source": []
  }
 ],
 "metadata": {
  "kernelspec": {
   "display_name": "Python 3",
   "language": "python",
   "name": "python3"
  },
  "language_info": {
   "codemirror_mode": {
    "name": "ipython",
    "version": 3
   },
   "file_extension": ".py",
   "mimetype": "text/x-python",
   "name": "python",
   "nbconvert_exporter": "python",
   "pygments_lexer": "ipython3",
   "version": "3.8.5"
  }
 },
 "nbformat": 4,
 "nbformat_minor": 4
}
